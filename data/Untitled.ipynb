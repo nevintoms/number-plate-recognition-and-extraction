{
 "cells": [
  {
   "cell_type": "code",
   "execution_count": 5,
   "id": "bf778a34",
   "metadata": {},
   "outputs": [],
   "source": [
    "def convertLabels(x1, y1, x2, y2, height, width, cat):\n",
    "    def sorting(v1, v2):\n",
    "        if v1 > v2:\n",
    "            vmax, vmin = v1, v2\n",
    "            return vmax, vmin\n",
    "        else:\n",
    "            vmax, vmin = v2, v1\n",
    "            return vmax, vmin\n",
    "    size = (height, width)\n",
    "    xmax, xmin = sorting(x1, x2)\n",
    "    ymax, ymin = sorting(y1, y2)\n",
    "    dw = 1. / size[1]\n",
    "    dh = 1. / size[0]\n",
    "    x = (xmin + xmax) / 2.0\n",
    "    y = (ymin + ymax) / 2.0\n",
    "    w = xmax - xmin\n",
    "    h = ymax - ymin\n",
    "    x = x * dw\n",
    "    w = w * dw\n",
    "    y = y * dh\n",
    "    h = h * dh\n",
    "    return cat, x, y, w, h"
   ]
  },
  {
   "cell_type": "code",
   "execution_count": 69,
   "id": "dca376f8",
   "metadata": {},
   "outputs": [],
   "source": [
    "import xml.etree.ElementTree as ET\n",
    "from pathlib import Path\n",
    "import re\n",
    "\n",
    "path = r'C:\\Users\\nevin\\OneDrive\\Desktop\\humber-files\\number-plate-detection\\data\\annotations_xml'\n",
    "def parsethefile(listOfFiles):\n",
    "    category = 0\n",
    "    for myFile in listOfFiles.iterdir():\n",
    "        result = re.split(r'[\\\\.]', str(myFile))[-2]\n",
    "#         print(result)\n",
    "        filePath = myFile\n",
    "        tree = ET.parse(filePath)\n",
    "        root = tree.getroot()\n",
    "        # Access elements and their values\n",
    "        folder = root.find('folder').text\n",
    "        filename = root.find('filename').text\n",
    "\n",
    "        size = root.find('size')\n",
    "        width = float(size.find('width').text)\n",
    "        height = float(size.find('height').text)\n",
    "        depth = float(size.find('depth').text)\n",
    "\n",
    "        object_info = root.find('object')\n",
    "        object_name = object_info.find('name').text\n",
    "        xmin = float(object_info.find('bndbox/xmin').text)\n",
    "        ymin = float(object_info.find('bndbox/ymin').text)\n",
    "        xmax = float(object_info.find('bndbox/xmax').text)\n",
    "        ymax = float(object_info.find('bndbox/ymax').text)\n",
    "        cat, x, y, w, h = convertLabels(xmin, ymin, xmax, ymax, height, width, category)\n",
    "        folder_path = './labels/'\n",
    "        file_name = result+'.txt'\n",
    "        file_path = f\"{folder_path}/{file_name}\"\n",
    "        with open(file_path, 'w') as file:\n",
    "            # Write content to the file\n",
    "            content = f\"{cat} {x} {y} {w} {h}\"\n",
    "            file.write(content)\n",
    "            \n",
    "            \n",
    "#     return xmin, ymin, xmax, ymax, height, width\n",
    "        # Replace this with the class label of your object\n",
    "parsethefile(Path(path))\n",
    "# xmin = 317\n",
    "# ymin = 426\n",
    "# xmax = 671\n",
    "# ymax = 546\n",
    "# height = 959\n",
    "# width = 959\n",
    "# cat, x, y, w, h = convertLabels(xmin, ymin, xmax, ymax, height, width, category)"
   ]
  },
  {
   "cell_type": "code",
   "execution_count": 23,
   "id": "bbbd22e7",
   "metadata": {},
   "outputs": [],
   "source": [
    "filePath = r'C:\\Users\\nevin\\OneDrive\\Desktop\\humber-files\\number-plate-detection\\data\\annotations\\Cars0.xml'\n",
    "parser = ET.XMLParser(encoding=\"utf-8\")\n",
    "targetTree = ET.parse(filePath, parser=parser)"
   ]
  },
  {
   "cell_type": "code",
   "execution_count": 29,
   "id": "e893003e",
   "metadata": {},
   "outputs": [
    {
     "data": {
      "text/plain": [
       "'500'"
      ]
     },
     "execution_count": 29,
     "metadata": {},
     "output_type": "execute_result"
    }
   ],
   "source": [
    "targetTree.getroot().find('size').find('width').text"
   ]
  },
  {
   "cell_type": "code",
   "execution_count": 16,
   "id": "3942ee89",
   "metadata": {},
   "outputs": [],
   "source": [
    "parser = ET.XMLParser(encoding=\"utf-8\")"
   ]
  },
  {
   "cell_type": "code",
   "execution_count": 17,
   "id": "b8bcbf5f",
   "metadata": {},
   "outputs": [
    {
     "data": {
      "text/plain": [
       "<xml.etree.ElementTree.XMLParser at 0x1d0223bcdc0>"
      ]
     },
     "execution_count": 17,
     "metadata": {},
     "output_type": "execute_result"
    }
   ],
   "source": [
    "parser"
   ]
  },
  {
   "cell_type": "code",
   "execution_count": null,
   "id": "80a9aece",
   "metadata": {},
   "outputs": [],
   "source": []
  }
 ],
 "metadata": {
  "kernelspec": {
   "display_name": "Python 3 (ipykernel)",
   "language": "python",
   "name": "python3"
  },
  "language_info": {
   "codemirror_mode": {
    "name": "ipython",
    "version": 3
   },
   "file_extension": ".py",
   "mimetype": "text/x-python",
   "name": "python",
   "nbconvert_exporter": "python",
   "pygments_lexer": "ipython3",
   "version": "3.11.5"
  }
 },
 "nbformat": 4,
 "nbformat_minor": 5
}
